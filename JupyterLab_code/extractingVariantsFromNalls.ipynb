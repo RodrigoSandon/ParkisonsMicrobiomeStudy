{
 "cells": [
  {
   "cell_type": "code",
   "execution_count": 1,
   "metadata": {},
   "outputs": [],
   "source": [
    "import pandas as pd\n",
    "import numpy as np"
   ]
  },
  {
   "cell_type": "code",
   "execution_count": 2,
   "metadata": {},
   "outputs": [
    {
     "name": "stderr",
     "output_type": "stream",
     "text": [
      "/Volumes/T7Touch/Applications/anaconda3/lib/python3.8/site-packages/IPython/core/interactiveshell.py:3071: DtypeWarning: Columns (0,1) have mixed types. Specify dtype option on import or set low_memory=False.\n",
      "  has_raised = await self.run_ast_nodes(code_ast.body, cell_name,\n"
     ]
    },
    {
     "data": {
      "text/html": [
       "<div>\n",
       "<style scoped>\n",
       "    .dataframe tbody tr th:only-of-type {\n",
       "        vertical-align: middle;\n",
       "    }\n",
       "\n",
       "    .dataframe tbody tr th {\n",
       "        vertical-align: top;\n",
       "    }\n",
       "\n",
       "    .dataframe thead th {\n",
       "        text-align: right;\n",
       "    }\n",
       "</style>\n",
       "<table border=\"1\" class=\"dataframe\">\n",
       "  <thead>\n",
       "    <tr style=\"text-align: right;\">\n",
       "      <th></th>\n",
       "      <th>PD_riskloci_nalls</th>\n",
       "      <th>MB_relatedloci</th>\n",
       "      <th>entire_genome_nalls</th>\n",
       "    </tr>\n",
       "  </thead>\n",
       "  <tbody>\n",
       "    <tr>\n",
       "      <th>0</th>\n",
       "      <td>chr1:152192927</td>\n",
       "      <td>chr7:37961001</td>\n",
       "      <td>chr11:88249377</td>\n",
       "    </tr>\n",
       "    <tr>\n",
       "      <th>1</th>\n",
       "      <td>chr1:156154860</td>\n",
       "      <td>chr2:136511817</td>\n",
       "      <td>chr1:60320992</td>\n",
       "    </tr>\n",
       "    <tr>\n",
       "      <th>2</th>\n",
       "      <td>chr1:161469054</td>\n",
       "      <td>chr3:129297223</td>\n",
       "      <td>chr2:18069070</td>\n",
       "    </tr>\n",
       "    <tr>\n",
       "      <th>3</th>\n",
       "      <td>chr1:171719769</td>\n",
       "      <td>chr11:57982620</td>\n",
       "      <td>chr8:135908647</td>\n",
       "    </tr>\n",
       "    <tr>\n",
       "      <th>4</th>\n",
       "      <td>chr2:18147848</td>\n",
       "      <td>chr20:2816821</td>\n",
       "      <td>chr12:3871714</td>\n",
       "    </tr>\n",
       "  </tbody>\n",
       "</table>\n",
       "</div>"
      ],
      "text/plain": [
       "  PD_riskloci_nalls  MB_relatedloci entire_genome_nalls\n",
       "0    chr1:152192927   chr7:37961001      chr11:88249377\n",
       "1    chr1:156154860  chr2:136511817       chr1:60320992\n",
       "2    chr1:161469054  chr3:129297223       chr2:18069070\n",
       "3    chr1:171719769  chr11:57982620      chr8:135908647\n",
       "4     chr2:18147848   chr20:2816821       chr12:3871714"
      ]
     },
     "execution_count": 2,
     "metadata": {},
     "output_type": "execute_result"
    }
   ],
   "source": [
    "df = pd.read_csv(\"/Volumes/T7Touch/NIHSummer2021/Data/MicrobiomeVariants/mb_pdVariants.csv\")\n",
    "\n",
    "df.head()"
   ]
  },
  {
   "cell_type": "code",
   "execution_count": 21,
   "metadata": {},
   "outputs": [],
   "source": [
    "mbVariants = [i for i in df[\"MB_relatedloci\"] if isinstance(i,str)]"
   ]
  },
  {
   "cell_type": "code",
   "execution_count": 22,
   "metadata": {},
   "outputs": [
    {
     "data": {
      "text/plain": [
       "312"
      ]
     },
     "execution_count": 22,
     "metadata": {},
     "output_type": "execute_result"
    }
   ],
   "source": [
    "len(mbVariants)"
   ]
  },
  {
   "cell_type": "code",
   "execution_count": 45,
   "metadata": {},
   "outputs": [],
   "source": [
    "entireGenome = [i for i in df[\"entire_genome_nalls\"] if isinstance(i,str)]"
   ]
  },
  {
   "cell_type": "code",
   "execution_count": 46,
   "metadata": {},
   "outputs": [
    {
     "data": {
      "text/plain": [
       "1048575"
      ]
     },
     "execution_count": 46,
     "metadata": {},
     "output_type": "execute_result"
    }
   ],
   "source": [
    "len(entireGenome)"
   ]
  },
  {
   "cell_type": "markdown",
   "metadata": {},
   "source": [
    "### Checking for duplicates in a list\n",
    "If size of list & set is equal then it means no duplicates in list.\n",
    "If size of list & set are different then it means yes, there are duplicates in list."
   ]
  },
  {
   "cell_type": "code",
   "execution_count": 12,
   "metadata": {},
   "outputs": [],
   "source": [
    "def checkIfDuplicates(listOfElems):\n",
    "    \n",
    "    if len(listOfElems) == len(set(listOfElems)):\n",
    "        print('No duplicates found in list')\n",
    "        return False  \n",
    "    else:\n",
    "        print('Yes, list contains duplicates')\n",
    "        return True\n"
   ]
  },
  {
   "cell_type": "code",
   "execution_count": 24,
   "metadata": {},
   "outputs": [
    {
     "name": "stdout",
     "output_type": "stream",
     "text": [
      "No duplicates found in list\n"
     ]
    }
   ],
   "source": [
    "result = checkIfDuplicates(mbVariants)\n",
    "if result:\n",
    "    print('Yes, list contains duplicates')\n",
    "else:\n",
    "    print('No duplicates found in list')   "
   ]
  },
  {
   "cell_type": "markdown",
   "metadata": {},
   "source": [
    "### Turning MB variants into data structure"
   ]
  },
  {
   "cell_type": "code",
   "execution_count": 24,
   "metadata": {},
   "outputs": [],
   "source": [
    "mbDict = {\n",
    "    'chr1' : [],\n",
    "    'chr2': [],\n",
    "    'chr3' : [],\n",
    "    'chr4': [],\n",
    "    'chr5' : [],\n",
    "    'chr6': [],\n",
    "    'chr7' : [],\n",
    "    'chr8': [],\n",
    "    'chr9' : [],\n",
    "    'chr10': [],\n",
    "    'chr11' : [],\n",
    "    'chr12': [],\n",
    "    'chr13' : [],\n",
    "    'chr14': [],\n",
    "    'chr15' : [],\n",
    "    'chr16': [],\n",
    "    'chr17' : [],\n",
    "    'chr18': [],\n",
    "    'chr19' : [],\n",
    "    'chr20': [],\n",
    "    'chr21' : [],\n",
    "    'chr22': [],}"
   ]
  },
  {
   "cell_type": "code",
   "execution_count": 34,
   "metadata": {},
   "outputs": [],
   "source": [
    "#mbVariants\n",
    "def removeDuplicates (lst):\n",
    "    for i in range(len(lst)):\n",
    "        curr = mbVariants[i]\n",
    "        for x in range(len(mbVariants)):\n",
    "            compareTo = mbVariants[x]\n",
    "            if i != x: #dont compare same index\n",
    "                if curr == compareTo:\n",
    "                    print(compareTo)\n",
    "                    mbVariants.pop(x) #removes by index\n"
   ]
  },
  {
   "cell_type": "code",
   "execution_count": 9,
   "metadata": {},
   "outputs": [],
   "source": [
    "def convertChrIDToDict (lst, dictName):\n",
    "    for i in range(len(lst)):\n",
    "        chrom = lst[i].split(\":\")\n",
    "        name = chrom[0]\n",
    "        pos = chrom[1]\n",
    "        dictName[name].append(pos)"
   ]
  },
  {
   "cell_type": "code",
   "execution_count": 61,
   "metadata": {},
   "outputs": [],
   "source": [
    "#mbRelatedSNPs #now have it in organize order"
   ]
  },
  {
   "cell_type": "code",
   "execution_count": 10,
   "metadata": {},
   "outputs": [],
   "source": [
    "def convertStringToIntListAndOrderThem (dictName):\n",
    "    for key in dictName:\n",
    "        for i in range(len(dictName[key])):\n",
    "            dictName[key][i] = int(dictName[key][i])\n",
    "        dictName[key].sort()\n",
    "#mbRelatedSNPs"
   ]
  },
  {
   "cell_type": "markdown",
   "metadata": {},
   "source": [
    "### Now dataset is sorted, binary search for it ?"
   ]
  },
  {
   "cell_type": "code",
   "execution_count": 47,
   "metadata": {},
   "outputs": [],
   "source": [
    "entireGenomeDict = {\n",
    "    'chr1' : [],\n",
    "    'chr2': [],\n",
    "    'chr3' : [],\n",
    "    'chr4': [],\n",
    "    'chr5' : [],\n",
    "    'chr6': [],\n",
    "    'chr7' : [],\n",
    "    'chr8': [],\n",
    "    'chr9' : [],\n",
    "    'chr10': [],\n",
    "    'chr11' : [],\n",
    "    'chr12': [],\n",
    "    'chr13' : [],\n",
    "    'chr14': [],\n",
    "    'chr15' : [],\n",
    "    'chr16': [],\n",
    "    'chr17' : [],\n",
    "    'chr18': [],\n",
    "    'chr19' : [],\n",
    "    'chr20': [],\n",
    "    'chr21' : [],\n",
    "    'chr22': [],}"
   ]
  },
  {
   "cell_type": "code",
   "execution_count": 50,
   "metadata": {},
   "outputs": [],
   "source": [
    "convertChrIDToDict (entireGenome, entireGenomeDict)"
   ]
  },
  {
   "cell_type": "code",
   "execution_count": 52,
   "metadata": {},
   "outputs": [],
   "source": [
    "convertStringToIntListAndOrderThem (entireGenomeDict)"
   ]
  },
  {
   "cell_type": "code",
   "execution_count": 54,
   "metadata": {},
   "outputs": [],
   "source": [
    "#entireGenomeDict"
   ]
  },
  {
   "cell_type": "code",
   "execution_count": 8,
   "metadata": {},
   "outputs": [],
   "source": [
    "def findMatchesInDicts (dict1, dict2, lstOfMatches):\n",
    "    for key in dict1: #dict1 and dict2 should be of same number of keys\n",
    "        for snp in range(len(dict1[key])): # but not same length of value (diff size lists)\n",
    "            if dict1[key][snp] in dict2[key]:\n",
    "                lstOfMatches.append(key + \":\" + str(dict1[key][snp]))"
   ]
  },
  {
   "cell_type": "code",
   "execution_count": 58,
   "metadata": {},
   "outputs": [],
   "source": [
    "mbVariants_FoundInNalls = []\n",
    "findMatchesInDicts(mbRelatedSNPs, entireGenomeDict, mbVariants_FoundInNalls)"
   ]
  },
  {
   "cell_type": "markdown",
   "metadata": {},
   "source": [
    "## 10/232 \n",
    "### Variants found in Nalls et all from studies that found markers associated with MB, metabolites of MB, host genotype that associates with 16S gut microbiome phenotypes, and affecting micriobial taxa abundance"
   ]
  },
  {
   "cell_type": "code",
   "execution_count": 59,
   "metadata": {},
   "outputs": [
    {
     "data": {
      "text/plain": [
       "['chr1:18103049',\n",
       " 'chr7:38465243',\n",
       " 'chr8:10691549',\n",
       " 'chr8:135274269',\n",
       " 'chr9:29435969',\n",
       " 'chr10:29386013',\n",
       " 'chr11:87905990',\n",
       " 'chr12:4779313',\n",
       " 'chr14:55907172',\n",
       " 'chr19:38520324']"
      ]
     },
     "execution_count": 59,
     "metadata": {},
     "output_type": "execute_result"
    }
   ],
   "source": [
    "mbVariants_FoundInNalls"
   ]
  },
  {
   "cell_type": "code",
   "execution_count": 63,
   "metadata": {},
   "outputs": [],
   "source": [
    "#mbRelatedSNPs"
   ]
  },
  {
   "cell_type": "markdown",
   "metadata": {},
   "source": [
    "### Redoing Matching Bc the count is not complete for Nalls (opening it truncates file)"
   ]
  },
  {
   "cell_type": "code",
   "execution_count": 64,
   "metadata": {},
   "outputs": [
    {
     "data": {
      "text/plain": [
       "1048575"
      ]
     },
     "execution_count": 64,
     "metadata": {},
     "output_type": "execute_result"
    }
   ],
   "source": [
    "len(entireGenome)"
   ]
  },
  {
   "cell_type": "code",
   "execution_count": 2,
   "metadata": {},
   "outputs": [],
   "source": [
    "genomeDict = {\n",
    "    'chr1' : [],\n",
    "    'chr2': [],\n",
    "    'chr3' : [],\n",
    "    'chr4': [],\n",
    "    'chr5' : [],\n",
    "    'chr6': [],\n",
    "    'chr7' : [],\n",
    "    'chr8': [],\n",
    "    'chr9' : [],\n",
    "    'chr10': [],\n",
    "    'chr11' : [],\n",
    "    'chr12': [],\n",
    "    'chr13' : [],\n",
    "    'chr14': [],\n",
    "    'chr15' : [],\n",
    "    'chr16': [],\n",
    "    'chr17' : [],\n",
    "    'chr18': [],\n",
    "    'chr19' : [],\n",
    "    'chr20': [],\n",
    "    'chr21' : [],\n",
    "    'chr22': [],}"
   ]
  },
  {
   "cell_type": "code",
   "execution_count": 3,
   "metadata": {},
   "outputs": [],
   "source": [
    "realGenome = pd.read_csv(\"/Volumes/T7Touch/NIHSummer2021/Data/EuropeanParkinsons/nalls_dataset.csv\")"
   ]
  },
  {
   "cell_type": "code",
   "execution_count": 4,
   "metadata": {},
   "outputs": [
    {
     "data": {
      "text/plain": [
       "17510617"
      ]
     },
     "execution_count": 4,
     "metadata": {},
     "output_type": "execute_result"
    }
   ],
   "source": [
    "realGenome[realGenome.columns[0]].count()"
   ]
  },
  {
   "cell_type": "code",
   "execution_count": 5,
   "metadata": {},
   "outputs": [],
   "source": [
    "allGenome = [i for i in realGenome[\"SNP\"] if isinstance(i,str)]"
   ]
  },
  {
   "cell_type": "code",
   "execution_count": 6,
   "metadata": {},
   "outputs": [
    {
     "data": {
      "text/plain": [
       "17510617"
      ]
     },
     "execution_count": 6,
     "metadata": {},
     "output_type": "execute_result"
    }
   ],
   "source": [
    "len(allGenome)"
   ]
  },
  {
   "cell_type": "code",
   "execution_count": 13,
   "metadata": {},
   "outputs": [],
   "source": [
    "convertChrIDToDict(allGenome, genomeDict)"
   ]
  },
  {
   "cell_type": "code",
   "execution_count": 14,
   "metadata": {},
   "outputs": [],
   "source": [
    "convertStringToIntListAndOrderThem(genomeDict)"
   ]
  },
  {
   "cell_type": "code",
   "execution_count": 27,
   "metadata": {},
   "outputs": [],
   "source": [
    "mbVars_inNalls = []\n",
    "findMatchesInDicts (mbDict, genomeDict, mbVars_inNalls)"
   ]
  },
  {
   "cell_type": "code",
   "execution_count": 28,
   "metadata": {},
   "outputs": [
    {
     "data": {
      "text/plain": [
       "203"
      ]
     },
     "execution_count": 28,
     "metadata": {},
     "output_type": "execute_result"
    }
   ],
   "source": [
    "len(mbVars_inNalls)"
   ]
  },
  {
   "cell_type": "code",
   "execution_count": 33,
   "metadata": {},
   "outputs": [],
   "source": [
    "#mbVars_inNalls\n",
    "arr = np.asarray(mbVars_inNalls)\n",
    "np.savetxt(\"/Volumes/T7Touch/NIHSummer2021/Data/MicrobiomeVariants/mbVariants_inNalls.csv\", arr, delimiter=\",\", fmt='%s')"
   ]
  },
  {
   "cell_type": "code",
   "execution_count": 83,
   "metadata": {},
   "outputs": [],
   "source": [
    "pdDict = {\n",
    "    'chr1' : [],\n",
    "    'chr2': [],\n",
    "    'chr3' : [],\n",
    "    'chr4': [],\n",
    "    'chr5' : [],\n",
    "    'chr6': [],\n",
    "    'chr7' : [],\n",
    "    'chr8': [],\n",
    "    'chr9' : [],\n",
    "    'chr10': [],\n",
    "    'chr11' : [],\n",
    "    'chr12': [],\n",
    "    'chr13' : [],\n",
    "    'chr14': [],\n",
    "    'chr15' : [],\n",
    "    'chr16': [],\n",
    "    'chr17' : [],\n",
    "    'chr18': [],\n",
    "    'chr19' : [],\n",
    "    'chr20': [],\n",
    "    'chr21' : [],\n",
    "    'chr22': [],}"
   ]
  },
  {
   "cell_type": "markdown",
   "metadata": {},
   "source": [
    "### How many SNPs in PD risk loci (from Nalls) in the entire genome sum stats of Nalls?\n",
    "\n",
    "PD risk loci should all be present in the sum stats that size of 17 million"
   ]
  },
  {
   "cell_type": "code",
   "execution_count": 18,
   "metadata": {},
   "outputs": [
    {
     "data": {
      "text/html": [
       "<div>\n",
       "<style scoped>\n",
       "    .dataframe tbody tr th:only-of-type {\n",
       "        vertical-align: middle;\n",
       "    }\n",
       "\n",
       "    .dataframe tbody tr th {\n",
       "        vertical-align: top;\n",
       "    }\n",
       "\n",
       "    .dataframe thead th {\n",
       "        text-align: right;\n",
       "    }\n",
       "</style>\n",
       "<table border=\"1\" class=\"dataframe\">\n",
       "  <thead>\n",
       "    <tr style=\"text-align: right;\">\n",
       "      <th></th>\n",
       "      <th>PD_riskloci_nalls</th>\n",
       "      <th>MB_relatedloci</th>\n",
       "      <th>entire_genome_nalls</th>\n",
       "    </tr>\n",
       "  </thead>\n",
       "  <tbody>\n",
       "    <tr>\n",
       "      <th>0</th>\n",
       "      <td>chr1:152192927</td>\n",
       "      <td>chr7:37961001</td>\n",
       "      <td>chr11:88249377</td>\n",
       "    </tr>\n",
       "    <tr>\n",
       "      <th>1</th>\n",
       "      <td>chr1:156154860</td>\n",
       "      <td>chr2:136511817</td>\n",
       "      <td>chr1:60320992</td>\n",
       "    </tr>\n",
       "    <tr>\n",
       "      <th>2</th>\n",
       "      <td>chr1:161469054</td>\n",
       "      <td>chr3:129297223</td>\n",
       "      <td>chr2:18069070</td>\n",
       "    </tr>\n",
       "    <tr>\n",
       "      <th>3</th>\n",
       "      <td>chr1:171719769</td>\n",
       "      <td>chr11:57982620</td>\n",
       "      <td>chr8:135908647</td>\n",
       "    </tr>\n",
       "    <tr>\n",
       "      <th>4</th>\n",
       "      <td>chr2:18147848</td>\n",
       "      <td>chr20:2816821</td>\n",
       "      <td>chr12:3871714</td>\n",
       "    </tr>\n",
       "  </tbody>\n",
       "</table>\n",
       "</div>"
      ],
      "text/plain": [
       "  PD_riskloci_nalls  MB_relatedloci entire_genome_nalls\n",
       "0    chr1:152192927   chr7:37961001      chr11:88249377\n",
       "1    chr1:156154860  chr2:136511817       chr1:60320992\n",
       "2    chr1:161469054  chr3:129297223       chr2:18069070\n",
       "3    chr1:171719769  chr11:57982620      chr8:135908647\n",
       "4     chr2:18147848   chr20:2816821       chr12:3871714"
      ]
     },
     "execution_count": 18,
     "metadata": {},
     "output_type": "execute_result"
    }
   ],
   "source": [
    "df = pd.read_csv(\"/Volumes/T7Touch/NIHSummer2021/Data/MicrobiomeVariants/mb_pdVariants.csv\")\n",
    "df.head()"
   ]
  },
  {
   "cell_type": "code",
   "execution_count": 23,
   "metadata": {},
   "outputs": [
    {
     "name": "stdout",
     "output_type": "stream",
     "text": [
      "No duplicates found in list\n"
     ]
    },
    {
     "data": {
      "text/plain": [
       "False"
      ]
     },
     "execution_count": 23,
     "metadata": {},
     "output_type": "execute_result"
    }
   ],
   "source": [
    "result = checkIfDuplicates(mbVariants)\n",
    "result"
   ]
  },
  {
   "cell_type": "code",
   "execution_count": 19,
   "metadata": {},
   "outputs": [],
   "source": [
    "pd_riskVariants = [i for i in df[\"PD_riskloci_nalls\"] if isinstance(i,str)]"
   ]
  },
  {
   "cell_type": "code",
   "execution_count": 20,
   "metadata": {},
   "outputs": [
    {
     "data": {
      "text/plain": [
       "118"
      ]
     },
     "execution_count": 20,
     "metadata": {},
     "output_type": "execute_result"
    }
   ],
   "source": [
    "len(pd_riskVariants)"
   ]
  },
  {
   "cell_type": "code",
   "execution_count": 85,
   "metadata": {},
   "outputs": [],
   "source": [
    "convertChrIDToDict(pd_riskVariants, pdDict)"
   ]
  },
  {
   "cell_type": "code",
   "execution_count": 86,
   "metadata": {},
   "outputs": [],
   "source": [
    "convertStringToIntListAndOrderThem(pdDict)"
   ]
  },
  {
   "cell_type": "code",
   "execution_count": 88,
   "metadata": {},
   "outputs": [
    {
     "data": {
      "text/plain": [
       "118"
      ]
     },
     "execution_count": 88,
     "metadata": {},
     "output_type": "execute_result"
    }
   ],
   "source": [
    "pdVars_inNalls = []\n",
    "findMatchesInDicts (pdDict, genomeDict, pdVars_inNalls)\n",
    "len(pdVars_inNalls)"
   ]
  },
  {
   "cell_type": "code",
   "execution_count": 25,
   "metadata": {},
   "outputs": [],
   "source": [
    "convertChrIDToDict(mbVariants, mbDict)"
   ]
  },
  {
   "cell_type": "code",
   "execution_count": 26,
   "metadata": {},
   "outputs": [],
   "source": [
    "convertStringToIntListAndOrderThem(mbDict)"
   ]
  },
  {
   "cell_type": "code",
   "execution_count": null,
   "metadata": {},
   "outputs": [],
   "source": []
  }
 ],
 "metadata": {
  "kernelspec": {
   "display_name": "Python 3",
   "language": "python",
   "name": "python3"
  },
  "language_info": {
   "codemirror_mode": {
    "name": "ipython",
    "version": 3
   },
   "file_extension": ".py",
   "mimetype": "text/x-python",
   "name": "python",
   "nbconvert_exporter": "python",
   "pygments_lexer": "ipython3",
   "version": "3.8.3"
  }
 },
 "nbformat": 4,
 "nbformat_minor": 4
}
