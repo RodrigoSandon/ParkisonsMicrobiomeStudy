{
 "cells": [
  {
   "cell_type": "code",
   "execution_count": 4,
   "metadata": {},
   "outputs": [
    {
     "data": {
      "text/html": [
       "<div>\n",
       "<style scoped>\n",
       "    .dataframe tbody tr th:only-of-type {\n",
       "        vertical-align: middle;\n",
       "    }\n",
       "\n",
       "    .dataframe tbody tr th {\n",
       "        vertical-align: top;\n",
       "    }\n",
       "\n",
       "    .dataframe thead th {\n",
       "        text-align: right;\n",
       "    }\n",
       "</style>\n",
       "<table border=\"1\" class=\"dataframe\">\n",
       "  <thead>\n",
       "    <tr style=\"text-align: right;\">\n",
       "      <th></th>\n",
       "      <th>chrID</th>\n",
       "    </tr>\n",
       "  </thead>\n",
       "  <tbody>\n",
       "    <tr>\n",
       "      <th>0</th>\n",
       "      <td>chr7:37961001</td>\n",
       "    </tr>\n",
       "    <tr>\n",
       "      <th>1</th>\n",
       "      <td>chr2:136511817</td>\n",
       "    </tr>\n",
       "    <tr>\n",
       "      <th>2</th>\n",
       "      <td>chr3:129297223</td>\n",
       "    </tr>\n",
       "    <tr>\n",
       "      <th>3</th>\n",
       "      <td>chr11:57982620</td>\n",
       "    </tr>\n",
       "    <tr>\n",
       "      <th>4</th>\n",
       "      <td>chr20:2816821</td>\n",
       "    </tr>\n",
       "  </tbody>\n",
       "</table>\n",
       "</div>"
      ],
      "text/plain": [
       "            chrID\n",
       "0   chr7:37961001\n",
       "1  chr2:136511817\n",
       "2  chr3:129297223\n",
       "3  chr11:57982620\n",
       "4   chr20:2816821"
      ]
     },
     "execution_count": 4,
     "metadata": {},
     "output_type": "execute_result"
    }
   ],
   "source": [
    "import pandas as pd\n",
    "\n",
    "df = pd.read_csv(\"/Volumes/T7Touch/NIHSummer2021/Data/MicrobiomeVariants/LDlink_input.csv\")\n",
    "df.head()"
   ]
  },
  {
   "cell_type": "markdown",
   "metadata": {},
   "source": [
    "### Create the dictionary while filling"
   ]
  },
  {
   "cell_type": "code",
   "execution_count": 8,
   "metadata": {},
   "outputs": [],
   "source": [
    "d = {}\n",
    "def arrangeByChromID (pandasDf, emptyDict):\n",
    "    for i in range(1,23):\n",
    "        emptyDict[\"chr{0}\".format(i)] = []\n",
    "        for idx, row in pandasDf.iterrows():\n",
    "            chrom = row[\"chrID\"].split(\":\")\n",
    "            chromID = chrom[0]\n",
    "            if chromID == \"chr{0}\".format(i):\n",
    "                emptyDict[\"chr{0}\".format(i)].append(row[\"chrID\"])"
   ]
  },
  {
   "cell_type": "code",
   "execution_count": 9,
   "metadata": {},
   "outputs": [],
   "source": [
    "d.clear()\n",
    "arrangeByChromID(df, d)"
   ]
  },
  {
   "cell_type": "code",
   "execution_count": 14,
   "metadata": {},
   "outputs": [],
   "source": [
    "def makeArraysSameLengthInDict(d):\n",
    "    maxLen = 0\n",
    "    for key in d:\n",
    "        currLen = len(d[key])\n",
    "        if currLen > maxLen:\n",
    "            maxLen = currLen\n",
    "    #now have maxLen, how many need to add per array, maxlen - currlen\n",
    "    for key in d:\n",
    "        elementsToFill = maxLen - len(d[key])\n",
    "        for i in range(0, elementsToFill):\n",
    "            d[key].append('.')"
   ]
  },
  {
   "cell_type": "code",
   "execution_count": 15,
   "metadata": {},
   "outputs": [],
   "source": [
    "makeArraysSameLengthInDict(d)"
   ]
  },
  {
   "cell_type": "code",
   "execution_count": 25,
   "metadata": {},
   "outputs": [],
   "source": [
    "def checkIfArraysInDictAllSameLength(d):\n",
    "    flag = True\n",
    "    lengthsOfValuesForEachKey = []\n",
    "    initialLen = len(d['chr1'])\n",
    "    for key in d:\n",
    "        lengthsOfValuesForEachKey.append(len(d[key]))\n",
    "        if len(d[key]) != initialLen:\n",
    "            flag = False\n",
    "    print(lengthsOfValuesForEachKey)\n",
    "    return flag"
   ]
  },
  {
   "cell_type": "code",
   "execution_count": 26,
   "metadata": {},
   "outputs": [
    {
     "name": "stdout",
     "output_type": "stream",
     "text": [
      "[49, 49, 49, 49, 49, 49, 49, 49, 49, 49, 49, 49, 49, 49, 49, 49, 49, 49, 49, 49, 49, 49]\n"
     ]
    },
    {
     "data": {
      "text/plain": [
       "True"
      ]
     },
     "execution_count": 26,
     "metadata": {},
     "output_type": "execute_result"
    }
   ],
   "source": [
    "checkIfArraysInDictAllSameLength(d)"
   ]
  },
  {
   "cell_type": "code",
   "execution_count": 27,
   "metadata": {},
   "outputs": [],
   "source": [
    "def keyValuesToCSV (d, outPath):\n",
    "    df = pd.DataFrame(data = d, index = None)\n",
    "    df.to_csv(outPath, index = None)"
   ]
  },
  {
   "cell_type": "code",
   "execution_count": 28,
   "metadata": {},
   "outputs": [],
   "source": [
    "keyValuesToCSV(d, \"/Volumes/T7Touch/NIHSummer2021/Data/MicrobiomeVariants/ld_linkAccInput.csv\")"
   ]
  },
  {
   "cell_type": "code",
   "execution_count": null,
   "metadata": {},
   "outputs": [],
   "source": []
  }
 ],
 "metadata": {
  "kernelspec": {
   "display_name": "Python 3",
   "language": "python",
   "name": "python3"
  },
  "language_info": {
   "codemirror_mode": {
    "name": "ipython",
    "version": 3
   },
   "file_extension": ".py",
   "mimetype": "text/x-python",
   "name": "python",
   "nbconvert_exporter": "python",
   "pygments_lexer": "ipython3",
   "version": "3.8.3"
  }
 },
 "nbformat": 4,
 "nbformat_minor": 4
}
