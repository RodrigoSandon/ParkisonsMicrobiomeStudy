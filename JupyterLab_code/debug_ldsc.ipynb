{
 "cells": [
  {
   "cell_type": "code",
   "execution_count": 3,
   "metadata": {},
   "outputs": [
    {
     "data": {
      "text/html": [
       "<div>\n",
       "<style scoped>\n",
       "    .dataframe tbody tr th:only-of-type {\n",
       "        vertical-align: middle;\n",
       "    }\n",
       "\n",
       "    .dataframe tbody tr th {\n",
       "        vertical-align: top;\n",
       "    }\n",
       "\n",
       "    .dataframe thead th {\n",
       "        text-align: right;\n",
       "    }\n",
       "</style>\n",
       "<table border=\"1\" class=\"dataframe\">\n",
       "  <thead>\n",
       "    <tr style=\"text-align: right;\">\n",
       "      <th></th>\n",
       "      <th>snpid</th>\n",
       "      <th>A1</th>\n",
       "      <th>A2</th>\n",
       "      <th>Zscore</th>\n",
       "      <th>N</th>\n",
       "      <th>P-value</th>\n",
       "    </tr>\n",
       "  </thead>\n",
       "  <tbody>\n",
       "    <tr>\n",
       "      <th>0</th>\n",
       "      <td>rs6890185</td>\n",
       "      <td>T</td>\n",
       "      <td>C</td>\n",
       "      <td>4.868859</td>\n",
       "      <td>4166</td>\n",
       "      <td>0.000001</td>\n",
       "    </tr>\n",
       "    <tr>\n",
       "      <th>1</th>\n",
       "      <td>rs11792329</td>\n",
       "      <td>G</td>\n",
       "      <td>A</td>\n",
       "      <td>4.341470</td>\n",
       "      <td>3858</td>\n",
       "      <td>0.000012</td>\n",
       "    </tr>\n",
       "    <tr>\n",
       "      <th>2</th>\n",
       "      <td>rs6884406</td>\n",
       "      <td>A</td>\n",
       "      <td>G</td>\n",
       "      <td>4.818916</td>\n",
       "      <td>4166</td>\n",
       "      <td>0.000001</td>\n",
       "    </tr>\n",
       "    <tr>\n",
       "      <th>3</th>\n",
       "      <td>rs57676887</td>\n",
       "      <td>C</td>\n",
       "      <td>T</td>\n",
       "      <td>4.532207</td>\n",
       "      <td>4166</td>\n",
       "      <td>0.000005</td>\n",
       "    </tr>\n",
       "    <tr>\n",
       "      <th>4</th>\n",
       "      <td>rs72864816</td>\n",
       "      <td>T</td>\n",
       "      <td>G</td>\n",
       "      <td>4.527756</td>\n",
       "      <td>4164</td>\n",
       "      <td>0.000005</td>\n",
       "    </tr>\n",
       "  </tbody>\n",
       "</table>\n",
       "</div>"
      ],
      "text/plain": [
       "        snpid A1 A2    Zscore     N   P-value\n",
       "0   rs6890185  T  C  4.868859  4166  0.000001\n",
       "1  rs11792329  G  A  4.341470  3858  0.000012\n",
       "2   rs6884406  A  G  4.818916  4166  0.000001\n",
       "3  rs57676887  C  T  4.532207  4166  0.000005\n",
       "4  rs72864816  T  G  4.527756  4164  0.000005"
      ]
     },
     "execution_count": 3,
     "metadata": {},
     "output_type": "execute_result"
    }
   ],
   "source": [
    "import pandas as pd\n",
    "\n",
    "f = \"/Volumes/Passport/119Bacs_addedP/addedPgenus..Clostridiuminnocuumgroup.id.14397.summary.txt.csv\"\n",
    "\n",
    "df = pd.read_csv(f)\n",
    "newDf = df[['rsID', 'eff.allele', 'ref.allele', 'Z.weightedSumZ', 'N', 'pDerived']].copy()\n",
    "newDf = newDf.rename(columns={'rsID' : 'snpid', 'pDerived' : 'P-value','eff.allele' : 'A1', 'ref.allele' : 'A2', 'Z.weightedSumZ' : 'Zscore'})\n",
    "\n",
    "newDf.head()"
   ]
  },
  {
   "cell_type": "code",
   "execution_count": 5,
   "metadata": {},
   "outputs": [],
   "source": [
    "newDf.to_csv(\"/Volumes/T7Touch/NIHSummer2021/Data/ldsc_debugging/Zsum.Clostridiuminnocuumgroup.id.14397.summary.csv\", index = False)"
   ]
  },
  {
   "cell_type": "code",
   "execution_count": 7,
   "metadata": {},
   "outputs": [],
   "source": [
    "import csv\n",
    "def CSVtoTXT (csv_file, txtFile):\n",
    "    with open(txtFile, \"w\") as my_output_file:\n",
    "        with open(csv_file, \"r\") as my_input_file:\n",
    "            [my_output_file.write(\" \".join(row)+'\\n') for row in csv.reader(my_input_file)]\n",
    "        my_output_file.close()\n",
    "        \n",
    "CSVtoTXT(\"/Volumes/T7Touch/NIHSummer2021/Data/ldsc_debugging/Zsum.Clostridiuminnocuumgroup.id.14397.summary.csv\", \"/Volumes/T7Touch/NIHSummer2021/Data/ldsc_debugging/Zsum.Clostridiuminnocuumgroup.id.14397.summary.txt\")"
   ]
  },
  {
   "cell_type": "code",
   "execution_count": null,
   "metadata": {},
   "outputs": [],
   "source": [
    "./munge_sumstats.py \\\n",
    "--out /Volumes/T7Touch/NIHSummer2021/Data/ldsc_debugging/Zsum.Clostridiuminnocuumgroup.id.14397.summary \\\n",
    "--merge-alleles /Volumes/T7Touch/NIHSummer2021/Data/LDSR_analysis/ldsc/w_hm3.snplist \\\n",
    "--sumstats /Volumes/T7Touch/NIHSummer2021/Data/ldsc_debugging/Zsum.Clostridiuminnocuumgroup.id.14397.summary.txt \n"
   ]
  },
  {
   "cell_type": "code",
   "execution_count": null,
   "metadata": {},
   "outputs": [],
   "source": [
    "./ldsc.py \\\n",
    "--ref-ld-chr /Volumes/T7Touch/NIHSummer2021/Data/LDSR_analysis/ldsc/eur_w_ld_chr/ \\\n",
    "--out /Volumes/T7Touch/NIHSummer2021/Data/ldsc_debugging/Clostridiuminnocuumgroup_ldscResults \\\n",
    "--rg /Volumes/T7Touch/NIHSummer2021/Data/ldsc_debugging/Zsum.Clostridiuminnocuumgroup.id.14397.summary.sumstats.gz,/Volumes/T7Touch/NIHSummer2021/Data/LDSR_analysis/nalls_onlyRsIDs.sumstats.gz \\\n",
    "--w-ld-chr /Volumes/T7Touch/NIHSummer2021/Data/LDSR_analysis/ldsc/eur_w_ld_chr/ \n"
   ]
  }
 ],
 "metadata": {
  "kernelspec": {
   "display_name": "Python 3",
   "language": "python",
   "name": "python3"
  },
  "language_info": {
   "codemirror_mode": {
    "name": "ipython",
    "version": 3
   },
   "file_extension": ".py",
   "mimetype": "text/x-python",
   "name": "python",
   "nbconvert_exporter": "python",
   "pygments_lexer": "ipython3",
   "version": "3.8.3"
  }
 },
 "nbformat": 4,
 "nbformat_minor": 4
}
