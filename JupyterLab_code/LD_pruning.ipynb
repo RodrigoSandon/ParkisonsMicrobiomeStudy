{
 "cells": [
  {
   "cell_type": "code",
   "execution_count": 1,
   "metadata": {},
   "outputs": [],
   "source": [
    "import pandas as pd"
   ]
  },
  {
   "cell_type": "code",
   "execution_count": 42,
   "metadata": {},
   "outputs": [],
   "source": [
    "df = pd.read_csv(csvPath, index_col=None)"
   ]
  },
  {
   "cell_type": "code",
   "execution_count": 111,
   "metadata": {},
   "outputs": [],
   "source": [
    "import random\n",
    "csv = \"/Volumes/T7Touch/NIHSummer2021/Data/LDPruning_MBVars/chr12/r2_eu.csv\"\n",
    "#df = pd.read_csv(csvPath, index_col=None)\n",
    "\n",
    "def prune (csvPath):\n",
    "    df = pd.read_csv(csvPath, index_col=None)\n",
    "\n",
    "    kept = [i for i in list(df.columns) if i != \"RS_number\"]\n",
    "    filteredOut = []\n",
    "    upTo = 1\n",
    "    \n",
    "    for row in range(len(df.index)):\n",
    "        #print(upTo)\n",
    "        for col in range(len(df.columns)): #luckily all rows will have same # of columns\n",
    "            #print(col)\n",
    "            #print(upTo)\n",
    "            if col < upTo: #only on the 2nd row will it start processing\n",
    "                if isinstance(df.iloc[row][col], float): #excludes first column bc rows not made up of floats\n",
    "                    if df.iloc[row][col] > 0.3: #if value of curr cell is higher than 0.3\n",
    "                        rsID_list = [df.iloc[row][0], df.columns[col]] #rowlabel,collabel\n",
    "                        out = random.choice(rsID_list)\n",
    "                        if out in filteredOut:\n",
    "                            for i in rsID_list:\n",
    "                                if i not in filteredOut:\n",
    "                                    #print(i)\n",
    "                                    out = i\n",
    "                        filteredOut.append(out)\n",
    "        upTo = upTo + 1\n",
    "    #see how many are kept\n",
    "    kept_copy = kept\n",
    "    for i in range(len(filteredOut)):\n",
    "        if filteredOut[i] in kept:\n",
    "            kept_copy.remove(filteredOut[i])\n",
    "            \n",
    "    print(\"Kept rsIDs: \", *kept_copy, \"\\n\", \"Removed rsIDs: \", *filteredOut, sep = \"\\n\")\n",
    "    print(\"\\nNumber rsIDs kept: \", len(kept_copy))\n",
    "    print(\"\\nNumber rsIDs removed: \", len(filteredOut))"
   ]
  },
  {
   "cell_type": "code",
   "execution_count": 112,
   "metadata": {},
   "outputs": [
    {
     "name": "stdout",
     "output_type": "stream",
     "text": [
      "Kept rsIDs: \n",
      "rs479105\n",
      "rs1009634\n",
      "rs2087307\n",
      "rs7302178\n",
      "rs7974353\n",
      "rs10748061\n",
      "rs12320842\n",
      "rs11608507\n",
      "rs2408564\n",
      "rs4760399\n",
      "rs11110281\n",
      "rs17806643\n",
      "\n",
      "\n",
      "Removed rsIDs: \n",
      "rs76494961\n",
      "rs77022914\n",
      "rs56930803\n",
      "rs10743315\n",
      "rs10743315\n",
      "rs56930803\n",
      "\n",
      "Number rsIDs kept:  12\n",
      "\n",
      "Number rsIDs removed:  6\n"
     ]
    }
   ],
   "source": [
    "prune(csv)"
   ]
  },
  {
   "cell_type": "code",
   "execution_count": 43,
   "metadata": {},
   "outputs": [
    {
     "data": {
      "text/html": [
       "<div>\n",
       "<style scoped>\n",
       "    .dataframe tbody tr th:only-of-type {\n",
       "        vertical-align: middle;\n",
       "    }\n",
       "\n",
       "    .dataframe tbody tr th {\n",
       "        vertical-align: top;\n",
       "    }\n",
       "\n",
       "    .dataframe thead th {\n",
       "        text-align: right;\n",
       "    }\n",
       "</style>\n",
       "<table border=\"1\" class=\"dataframe\">\n",
       "  <thead>\n",
       "    <tr style=\"text-align: right;\">\n",
       "      <th></th>\n",
       "      <th>RS_number</th>\n",
       "      <th>rs479105</th>\n",
       "      <th>rs1009634</th>\n",
       "      <th>rs2087307</th>\n",
       "      <th>rs77022914</th>\n",
       "      <th>rs76494961</th>\n",
       "      <th>rs56930803</th>\n",
       "      <th>rs10743315</th>\n",
       "      <th>rs7302178</th>\n",
       "      <th>rs7974353</th>\n",
       "      <th>rs10748061</th>\n",
       "      <th>rs12320842</th>\n",
       "      <th>rs11608507</th>\n",
       "      <th>rs2408564</th>\n",
       "      <th>rs4760399</th>\n",
       "      <th>rs11110281</th>\n",
       "      <th>rs17806643</th>\n",
       "    </tr>\n",
       "  </thead>\n",
       "  <tbody>\n",
       "    <tr>\n",
       "      <th>0</th>\n",
       "      <td>rs479105</td>\n",
       "      <td>1.000</td>\n",
       "      <td>0.000</td>\n",
       "      <td>0.001</td>\n",
       "      <td>0.001</td>\n",
       "      <td>0.000</td>\n",
       "      <td>0.000</td>\n",
       "      <td>0.000</td>\n",
       "      <td>0.0</td>\n",
       "      <td>0.001</td>\n",
       "      <td>0.000</td>\n",
       "      <td>0.000</td>\n",
       "      <td>0.000</td>\n",
       "      <td>0.006</td>\n",
       "      <td>0.000</td>\n",
       "      <td>0.001</td>\n",
       "      <td>0.000</td>\n",
       "    </tr>\n",
       "    <tr>\n",
       "      <th>1</th>\n",
       "      <td>rs1009634</td>\n",
       "      <td>0.000</td>\n",
       "      <td>1.000</td>\n",
       "      <td>0.000</td>\n",
       "      <td>0.001</td>\n",
       "      <td>0.000</td>\n",
       "      <td>0.000</td>\n",
       "      <td>0.001</td>\n",
       "      <td>0.0</td>\n",
       "      <td>0.000</td>\n",
       "      <td>0.000</td>\n",
       "      <td>0.006</td>\n",
       "      <td>0.000</td>\n",
       "      <td>0.007</td>\n",
       "      <td>0.001</td>\n",
       "      <td>0.000</td>\n",
       "      <td>0.001</td>\n",
       "    </tr>\n",
       "    <tr>\n",
       "      <th>2</th>\n",
       "      <td>rs2087307</td>\n",
       "      <td>0.001</td>\n",
       "      <td>0.000</td>\n",
       "      <td>1.000</td>\n",
       "      <td>0.000</td>\n",
       "      <td>0.000</td>\n",
       "      <td>0.000</td>\n",
       "      <td>0.000</td>\n",
       "      <td>0.0</td>\n",
       "      <td>0.000</td>\n",
       "      <td>0.001</td>\n",
       "      <td>0.000</td>\n",
       "      <td>0.001</td>\n",
       "      <td>0.000</td>\n",
       "      <td>0.001</td>\n",
       "      <td>0.001</td>\n",
       "      <td>0.001</td>\n",
       "    </tr>\n",
       "    <tr>\n",
       "      <th>3</th>\n",
       "      <td>rs77022914</td>\n",
       "      <td>0.001</td>\n",
       "      <td>0.001</td>\n",
       "      <td>0.000</td>\n",
       "      <td>1.000</td>\n",
       "      <td>0.945</td>\n",
       "      <td>0.945</td>\n",
       "      <td>0.879</td>\n",
       "      <td>0.0</td>\n",
       "      <td>0.000</td>\n",
       "      <td>0.000</td>\n",
       "      <td>0.000</td>\n",
       "      <td>0.000</td>\n",
       "      <td>0.000</td>\n",
       "      <td>0.001</td>\n",
       "      <td>0.000</td>\n",
       "      <td>0.001</td>\n",
       "    </tr>\n",
       "    <tr>\n",
       "      <th>4</th>\n",
       "      <td>rs76494961</td>\n",
       "      <td>0.000</td>\n",
       "      <td>0.000</td>\n",
       "      <td>0.000</td>\n",
       "      <td>0.945</td>\n",
       "      <td>1.000</td>\n",
       "      <td>1.000</td>\n",
       "      <td>0.931</td>\n",
       "      <td>0.0</td>\n",
       "      <td>0.001</td>\n",
       "      <td>0.000</td>\n",
       "      <td>0.000</td>\n",
       "      <td>0.000</td>\n",
       "      <td>0.000</td>\n",
       "      <td>0.001</td>\n",
       "      <td>0.000</td>\n",
       "      <td>0.001</td>\n",
       "    </tr>\n",
       "  </tbody>\n",
       "</table>\n",
       "</div>"
      ],
      "text/plain": [
       "    RS_number  rs479105  rs1009634  rs2087307  rs77022914  rs76494961  \\\n",
       "0    rs479105     1.000      0.000      0.001       0.001       0.000   \n",
       "1   rs1009634     0.000      1.000      0.000       0.001       0.000   \n",
       "2   rs2087307     0.001      0.000      1.000       0.000       0.000   \n",
       "3  rs77022914     0.001      0.001      0.000       1.000       0.945   \n",
       "4  rs76494961     0.000      0.000      0.000       0.945       1.000   \n",
       "\n",
       "   rs56930803  rs10743315  rs7302178  rs7974353  rs10748061  rs12320842  \\\n",
       "0       0.000       0.000        0.0      0.001       0.000       0.000   \n",
       "1       0.000       0.001        0.0      0.000       0.000       0.006   \n",
       "2       0.000       0.000        0.0      0.000       0.001       0.000   \n",
       "3       0.945       0.879        0.0      0.000       0.000       0.000   \n",
       "4       1.000       0.931        0.0      0.001       0.000       0.000   \n",
       "\n",
       "   rs11608507  rs2408564  rs4760399  rs11110281  rs17806643  \n",
       "0       0.000      0.006      0.000       0.001       0.000  \n",
       "1       0.000      0.007      0.001       0.000       0.001  \n",
       "2       0.001      0.000      0.001       0.001       0.001  \n",
       "3       0.000      0.000      0.001       0.000       0.001  \n",
       "4       0.000      0.000      0.001       0.000       0.001  "
      ]
     },
     "execution_count": 43,
     "metadata": {},
     "output_type": "execute_result"
    }
   ],
   "source": [
    "df.head()"
   ]
  },
  {
   "cell_type": "code",
   "execution_count": 92,
   "metadata": {},
   "outputs": [
    {
     "data": {
      "text/plain": [
       "(16, 17)"
      ]
     },
     "execution_count": 92,
     "metadata": {},
     "output_type": "execute_result"
    }
   ],
   "source": [
    "df.shape"
   ]
  },
  {
   "cell_type": "code",
   "execution_count": 54,
   "metadata": {},
   "outputs": [
    {
     "data": {
      "text/plain": [
       "1"
      ]
     },
     "execution_count": 54,
     "metadata": {},
     "output_type": "execute_result"
    }
   ],
   "source": [
    "df.index[1]"
   ]
  },
  {
   "cell_type": "code",
   "execution_count": 59,
   "metadata": {},
   "outputs": [
    {
     "data": {
      "text/plain": [
       "'RS_number'"
      ]
     },
     "execution_count": 59,
     "metadata": {},
     "output_type": "execute_result"
    }
   ],
   "source": [
    "df.columns[0]"
   ]
  },
  {
   "cell_type": "code",
   "execution_count": 50,
   "metadata": {},
   "outputs": [
    {
     "data": {
      "text/plain": [
       "numpy.float64"
      ]
     },
     "execution_count": 50,
     "metadata": {},
     "output_type": "execute_result"
    }
   ],
   "source": [
    "type(df.iloc[0][1])"
   ]
  },
  {
   "cell_type": "code",
   "execution_count": 51,
   "metadata": {},
   "outputs": [
    {
     "data": {
      "text/plain": [
       "'rs2087307'"
      ]
     },
     "execution_count": 51,
     "metadata": {},
     "output_type": "execute_result"
    }
   ],
   "source": [
    "df.iloc[2][0]"
   ]
  },
  {
   "cell_type": "code",
   "execution_count": 25,
   "metadata": {},
   "outputs": [
    {
     "data": {
      "text/plain": [
       "rs479105      1.000\n",
       "rs1009634     0.000\n",
       "rs2087307     0.001\n",
       "rs77022914    0.001\n",
       "rs76494961    0.000\n",
       "rs56930803    0.000\n",
       "rs10743315    0.000\n",
       "rs7302178     0.000\n",
       "rs7974353     0.001\n",
       "rs10748061    0.000\n",
       "rs12320842    0.000\n",
       "rs11608507    0.000\n",
       "rs2408564     0.006\n",
       "rs4760399     0.000\n",
       "rs11110281    0.001\n",
       "rs17806643    0.000\n",
       "Name: rs479105, dtype: float64"
      ]
     },
     "execution_count": 25,
     "metadata": {},
     "output_type": "execute_result"
    }
   ],
   "source": [
    "df.iloc[0]"
   ]
  },
  {
   "cell_type": "code",
   "execution_count": 24,
   "metadata": {},
   "outputs": [
    {
     "data": {
      "text/plain": [
       "rs479105      1.000\n",
       "rs1009634     0.000\n",
       "rs2087307     0.001\n",
       "rs77022914    0.001\n",
       "rs76494961    0.000\n",
       "rs56930803    0.000\n",
       "rs10743315    0.000\n",
       "rs7302178     0.000\n",
       "rs7974353     0.001\n",
       "rs10748061    0.000\n",
       "rs12320842    0.000\n",
       "rs11608507    0.000\n",
       "rs2408564     0.006\n",
       "rs4760399     0.000\n",
       "rs11110281    0.001\n",
       "rs17806643    0.000\n",
       "Name: rs479105, dtype: float64"
      ]
     },
     "execution_count": 24,
     "metadata": {},
     "output_type": "execute_result"
    }
   ],
   "source": [
    "df.loc[\"rs479105\"]"
   ]
  },
  {
   "cell_type": "code",
   "execution_count": null,
   "metadata": {},
   "outputs": [],
   "source": []
  }
 ],
 "metadata": {
  "kernelspec": {
   "display_name": "Python 3",
   "language": "python",
   "name": "python3"
  },
  "language_info": {
   "codemirror_mode": {
    "name": "ipython",
    "version": 3
   },
   "file_extension": ".py",
   "mimetype": "text/x-python",
   "name": "python",
   "nbconvert_exporter": "python",
   "pygments_lexer": "ipython3",
   "version": "3.8.3"
  }
 },
 "nbformat": 4,
 "nbformat_minor": 4
}
